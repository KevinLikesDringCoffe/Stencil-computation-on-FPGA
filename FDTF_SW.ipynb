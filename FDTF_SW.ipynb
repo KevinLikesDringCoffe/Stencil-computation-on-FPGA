{
 "cells": [
  {
   "cell_type": "code",
   "execution_count": 2,
   "metadata": {},
   "outputs": [],
   "source": [
    "import numpy as np\n",
    "import matplotlib.pyplot as plt\n",
    "import time\n",
    "\n",
    "beta = 0.001;\n",
    "delta_t = 0.5;\n",
    "delta_x = 0.1;\n",
    "delta_y = 0.1;\n",
    "size = 64;\n",
    "\n",
    "coef_tij = 1 - delta_t * 2 * beta * (1/(delta_x**2) + 1/(delta_y**2));\n",
    "coef_ti = delta_t * beta * (1/delta_x**2);\n",
    "coef_tj = delta_t * beta * (1/delta_y**2);\n",
    "iter = 1000;"
   ]
  },
  {
   "cell_type": "code",
   "execution_count": 5,
   "metadata": {
    "scrolled": true
   },
   "outputs": [
    {
     "data": {
      "image/png": "[encoded data removed]",
      "text/plain": [
       "<matplotlib.figure.Figure at 0xafa561d0>"
      ]
     },
     "metadata": {},
     "output_type": "display_data"
    },
    {
     "name": "stdout",
     "output_type": "stream",
     "text": [
      "total elapse time =  104.28902626037598  sec\n"
     ]
    }
   ],
   "source": [
    "A = np.zeros((size,size));\n",
    "A[0,:] = 100;\n",
    "A[:,0] = 100;\n",
    "B = A;\n",
    "\n",
    "time_start = time.time()\n",
    "for t in range(iter) :\n",
    "    for i in range(1,size-1) :\n",
    "        for j in range(1,size-1) :\n",
    "            A[i,j] = coef_tij * B[i,j] + coef_ti * B[i+1,j] + coef_ti * B[i-1,j] + coef_tj * B[i,j+1] + coef_tj * B[i,j-1];\n",
    "    B = A;\n",
    "time_end = time.time()\n",
    "fig = plt.figure()\n",
    "plt.pcolor(A)\n",
    "plt.title('iteration='+str((t+1)))\n",
    "plt.tight_layout()\n",
    "plt.show()\n",
    "print('total elapse time = ',time_end-time_start,' sec')"
   ]
  },
  {
   "cell_type": "code",
   "execution_count": null,
   "metadata": {},
   "outputs": [],
   "source": []
  }
 ],
 "metadata": {
  "kernelspec": {
   "display_name": "Python 3",
   "language": "python",
   "name": "python3"
  },
  "language_info": {
   "codemirror_mode": {
    "name": "ipython",
    "version": 3
   },
   "file_extension": ".py",
   "mimetype": "text/x-python",
   "name": "python",
   "nbconvert_exporter": "python",
   "pygments_lexer": "ipython3",
   "version": "3.6.5"
  }
 },
 "nbformat": 4,
 "nbformat_minor": 2
}
